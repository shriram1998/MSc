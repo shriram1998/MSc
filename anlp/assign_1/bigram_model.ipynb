{
 "cells": [
  {
   "cell_type": "code",
   "execution_count": 6,
   "metadata": {},
   "outputs": [],
   "source": [
    "import re\n",
    "from pathlib import Path\n",
    "import string\n",
    "from functools import reduce\n",
    "from math import log\n",
    "import itertools"
   ]
  },
  {
   "cell_type": "code",
   "execution_count": 7,
   "metadata": {},
   "outputs": [],
   "source": [
    "# Enter smoothing or no smoothing.\n",
    "smoothing = 1\n",
    "filename = \"d:/MS/anlp/training.en\""
   ]
  },
  {
   "cell_type": "code",
   "execution_count": 9,
   "metadata": {},
   "outputs": [],
   "source": [
    "# Loads file\n",
    "# input - filename.txt \n",
    "# returns a list of sentences seperated by newline in the main corpus/text.\n",
    "#%% \n",
    "def load_file(filename):\n",
    "    with open(filename) as f:\n",
    "        lines = [line.rstrip() for line in f]\n",
    "    print(lines)\n",
    "    print(\"No of sentences in Corpus: \"+str(len(lines)))\n",
    "    return lines"
   ]
  },
  {
   "cell_type": "code",
   "execution_count": null,
   "metadata": {},
   "outputs": [],
   "source": [
    "# Tokenizes the sentences meaning split the sentences into words seperated by the \"white sapce\".\n",
    "# input - List of sentences\n",
    "# returns a list of lists of each sentence being tokenized.\n",
    "def tokenize_sentence(lines):\n",
    "    lines = [i.strip(\"''\").split(\" \") for i in lines] \n",
    "    print(\"No of sentences in Corpus: \"+str(len(lines)))\n",
    "    return lines"
   ]
  },
  {
   "cell_type": "code",
   "execution_count": null,
   "metadata": {},
   "outputs": [],
   "source": [
    "# Prepare the data for training the bigram model.\n",
    "# remove punctuations -print(string.punctuation) ---- !\"#$%&'()*+,-./:;<=>?@[\\]^_`{|}~ ----\n",
    "# remove empty strings.\n",
    "# lower case all the words\n",
    "# add <s> at the beginning and </s> at the end of every sentence in the corpus.\n",
    "# input - list of lists of words obtained from \"tokenize_sentence\" function.\n",
    "# returns - list of lists\n",
    "def prep_data(lines):\n",
    "    for i in range(len(lines)):\n",
    "        lines[i] = [''.join(c for c in s if c not in string.punctuation) for s in lines[i]] # remove punctuations\n",
    "        lines[i] = [s for s in lines[i] if s] # removes empty strings\n",
    "        lines[i] = [word.lower() for word in lines[i]] # lower case\n",
    "        lines[i] += ['</s>'] # Append </s> at the end of each sentence in the corpus\n",
    "        lines[i].insert(0, '<s>')  # Append <s> at the beginning of each sentence in the corpus\n",
    "    print(\"No of sentences in Corpus: \"+str(len(lines)))\n",
    "    return lines"
   ]
  },
  {
   "cell_type": "code",
   "execution_count": null,
   "metadata": {},
   "outputs": [],
   "source": [
    "dataset = load_file(filename)\n",
    "dataset = tokenize_sentence(dataset)\n",
    "dataset = prep_data(dataset)"
   ]
  },
  {
   "cell_type": "code",
   "execution_count": null,
   "metadata": {},
   "outputs": [],
   "source": [
    "# Creates the vocabulary file of the dataset.\n",
    "def vocabulary(dataset):\n",
    "    dataset_vocab = set(itertools.chain.from_iterable(dataset))\n",
    "    # remove <s> and </s> from the vocabulary of the dataset\n",
    "    dataset_vocab.remove('<s>')\n",
    "    dataset_vocab.remove('</s>')\n",
    "    dataset_vocab = list(dataset_vocab)\n",
    "    dataset_vocab.append('<s>')\n",
    "    dataset_vocab.append('</s>')\n",
    "    return dataset_vocab\n",
    "\n",
    "dataset_vocab = vocabulary(dataset)"
   ]
  },
  {
   "cell_type": "code",
   "execution_count": null,
   "metadata": {},
   "outputs": [],
   "source": [
    "len(dataset_vocab)"
   ]
  },
  {
   "cell_type": "code",
   "execution_count": null,
   "metadata": {},
   "outputs": [],
   "source": [
    "# Counts the no. of times a word repeats (frequency of each word) in the corpus.\n",
    "# input - list of lists of words obtained from \"prep_data\"\n",
    "# returns - a dictionary defined as {word:frequency} for words of the corpus including <s> and </s>.\n",
    "def freq_of_unique_words(lines):\n",
    "    bag_of_words = list(itertools.chain.from_iterable(lines)) # change the nested list to one single list\n",
    "    corpus_word_count = 0 # No of words in the corpus excluding <s> and </s>.\n",
    "    #count the no. of times a word repeats in the corpus\n",
    "    count = {}\n",
    "    for word in bag_of_words:\n",
    "        if word in count :\n",
    "            count[word] += 1\n",
    "        else:\n",
    "            count[word] = 1\n",
    "        if word != '<s>' and word != '</s>':\n",
    "             corpus_word_count +=1\n",
    "            \n",
    "    unique_word_count = len(count) - 2 # number of unique words in the corpus excluding <s> and </s>\n",
    "    \n",
    "    #print(\"!!! IT IS EXCLUDING <s> AND </s> !!!\")\n",
    "    print(\"No of unique words in corpus : \"+ str(unique_word_count))\n",
    "    print(\"No of words in corpus: \"+ str(corpus_word_count))\n",
    "    \n",
    "    return count"
   ]
  },
  {
   "cell_type": "code",
   "execution_count": null,
   "metadata": {},
   "outputs": [],
   "source": [
    "unique_word_frequency = freq_of_unique_words(dataset)\n",
    "#len(unique_word_frequency)"
   ]
  },
  {
   "cell_type": "code",
   "execution_count": null,
   "metadata": {},
   "outputs": [],
   "source": [
    "# Computes the bigram frequncies\n",
    "# Bigram frequncies means the number of times a word appears after a given word in the corpus.\n",
    "# inputs:\n",
    "# lines - list of lists obtained from \"prep_data\".\n",
    "# count - dictionary obtained from \"freq_of_unique_words\".\n",
    "# returns - dictionary of bigram frequencies {(word|given word): count(word|given word)} --- count(word|given word)~int.\n",
    "def compute_bigram_frequencies(lines):\n",
    "    bigram_frequencies = dict() \n",
    "    #unique_bigrams = set()\n",
    "    for sentence in lines:\n",
    "        given_word = None\n",
    "        for word in sentence:\n",
    "            if given_word != None:\n",
    "                bigram_frequencies[(given_word, word)] = bigram_frequencies.get((given_word, word),0) + 1\n",
    "#                 if(previous_word!='<s>' and word!='</s>'):\n",
    "#                     unique_bigrams.add((previous_word,word))\n",
    "            given_word = word\n",
    "    #The number of bigram_frquencies in the corpus       \n",
    "    #print(len(bigram_frequencies))\n",
    "    return bigram_frequencies"
   ]
  },
  {
   "cell_type": "code",
   "execution_count": null,
   "metadata": {},
   "outputs": [],
   "source": [
    "bigram_frequencies = compute_bigram_frequencies(dataset)\n",
    "#print(bigram_frequencies)\n",
    "bigram_unique_word_count = len(unique_word_frequency)\n",
    "# print(\"\\n\"+\"No of words in bigram: \"+str(bigram_unique_word_count))"
   ]
  },
  {
   "cell_type": "code",
   "execution_count": null,
   "metadata": {},
   "outputs": [],
   "source": [
    "# Calculating bigram probability\n",
    "# bigram probability means P(word|given word) = count(word|given word)/ count(given word).\n",
    "# if count(word|given word) or count(given word) is 0 then probability is 0.\n",
    "# input bigram_frquencies and count obtained from \"freq_of_unique_words\".\n",
    "# returns dictionary of bigram probabilities {(word|given word): probabilty} --- probability is a float value.\n",
    "def compute_bigram_probabilities(bigram_frequencies,count):\n",
    "    bigram_probabilities = dict() \n",
    "    for key in bigram_frequencies:\n",
    "        numerator = bigram_frequencies.get(key)\n",
    "        denominator = count.get(key[0]) # count.get(key[0]) will get the frequency of \"given word\" in the corpus.\n",
    "        if (numerator ==0 or denominator==0):\n",
    "            bigram_probabilities[key] = 0\n",
    "        else:\n",
    "            bigram_probabilities[key] = float(numerator)/float(denominator)\n",
    "    return bigram_probabilities"
   ]
  },
  {
   "cell_type": "code",
   "execution_count": null,
   "metadata": {
    "scrolled": true
   },
   "outputs": [],
   "source": [
    "bigram_probabilities = compute_bigram_probabilities(bigram_frequencies,unique_word_frequency)\n",
    "#bigram_probabilities"
   ]
  },
  {
   "cell_type": "code",
   "execution_count": null,
   "metadata": {},
   "outputs": [],
   "source": [
    "# Bigram frequncies of the test sentence computed using the bigram frequencies of the training data.\n",
    "# add-one smoothing if 1, no smoothing if 0 ----- smoothing\n",
    "def compute_bigram_count_test_sentence(given_word,word,smoothing):\n",
    "    if smoothing==0:\n",
    "        return 0 if bigram_frequencies.get((given_word,word))==None else bigram_frequencies.get((given_word,word))\n",
    "    elif smoothing == 1:\n",
    "        return 1 if bigram_frequencies.get((given_word,word))==None else bigram_frequencies.get((given_word,word))+1"
   ]
  },
  {
   "cell_type": "code",
   "execution_count": null,
   "metadata": {},
   "outputs": [],
   "source": [
    "# A table showing the bigram counts for test sentence.\n",
    "def print_bigram_freq_test_sentence(test_sentence_vocab,smoothing):\n",
    "    print(\"A table showing the bigram counts for test sentence.\"+\"\\nsmoothing =\"+str(smoothing))\n",
    "    print(\"\\t\\t\\t\", end=\"\")\n",
    "    for word in test_sentence_vocab:\n",
    "        if word != '<s>':\n",
    "            print(word, end=\"\\t\\t\")\n",
    "    print(\"\")\n",
    "    for given_word in test_sentence_vocab:\n",
    "        if given_word != '</s>':\n",
    "            if(smoothing==1):\n",
    "                print(unique_word_frequency.get(given_word)+bigram_unique_word_count, end =\"\\t\")\n",
    "            elif(smoothing==0):\n",
    "                print(unique_word_frequency.get(given_word), end =\"\\t\")\n",
    "            print(given_word, end=\"\\t\\t\")\n",
    "            for word in test_sentence_vocab:\n",
    "                if word !='<s>':\n",
    "                    print(\"{0:}\".format(compute_bigram_count_test_sentence(given_word,word,smoothing)), end=\"\\t\\t\")\n",
    "            print(\"\")\n",
    "    print(\"\")"
   ]
  },
  {
   "cell_type": "code",
   "execution_count": null,
   "metadata": {},
   "outputs": [],
   "source": [
    "# Bigram probabilities of the test sentence computed using the bigram probabilities of the training data.\n",
    "# add-one smoothing if 1, no smoothing if 0 ---- smoothing\n",
    "def compute_bigram_prob_test_sentence(given_word,word,smoothing):\n",
    "    bigram_freq = 0 if bigram_frequencies.get((given_word,word))==None else bigram_frequencies.get((given_word,word))\n",
    "    uni_freq = 0 if unique_word_frequency.get((given_word))==None else unique_word_frequency.get((given_word))\n",
    "    if smoothing==0:\n",
    "        return 0 if bigram_probabilities.get((given_word,word))==None else bigram_probabilities.get((given_word,word))\n",
    "    elif smoothing == 1:\n",
    "        numerator = bigram_freq+1\n",
    "        denominator = uni_freq+bigram_unique_word_count\n",
    "        return 0.0 if numerator == 0 or denominator == 0 else float(numerator) / float(denominator)"
   ]
  },
  {
   "cell_type": "code",
   "execution_count": null,
   "metadata": {},
   "outputs": [],
   "source": [
    "# A table showing the bigram probabilities for test sentence.\n",
    "def print_bigram_probabilities_test_sentence(test_sentence_vocab,smoothing):\n",
    "    print(\"A table showing the bigram probabilities for test sentence\"+\"\\nsmoothing =\"+str(smoothing))\n",
    "    print(\"\\t\\t\", end=\"\")\n",
    "    for word in test_sentence_vocab:\n",
    "        if word != '<s>':\n",
    "            print(word, end=\"\\t\\t\")\n",
    "    print(\"\")\n",
    "    for given_word in test_sentence_vocab:\n",
    "        if given_word != '</s>':\n",
    "            print(given_word, end=\"\\t\\t\")\n",
    "            for word in test_sentence_vocab:\n",
    "                if word !='<s>':\n",
    "                    print(\"{0:.5f}\".format(compute_bigram_prob_test_sentence(given_word,word,smoothing)), end=\"\\t\\t\")\n",
    "            print(\"\")\n",
    "    print(\"\")"
   ]
  },
  {
   "cell_type": "code",
   "execution_count": null,
   "metadata": {},
   "outputs": [],
   "source": [
    "# Print the probability of the test sentence\n",
    "# for add-one smoothing if 1, no smoothing if 0\n",
    "def compute_prob_test_sentence(sentence,smoothing):\n",
    "    test_sent_prob = 0\n",
    "    \n",
    "    if(smoothing == 0):\n",
    "        given_word = None\n",
    "        for word in sentence:\n",
    "            if given_word!=None:\n",
    "                if bigram_probabilities.get((given_word,word))==0 or bigram_probabilities.get((given_word,word))== None:\n",
    "                    return 0\n",
    "                else:\n",
    "                    test_sent_prob+=log((bigram_probabilities.get((given_word,word),0)),10)\n",
    "            given_word = word\n",
    "            \n",
    "    elif(smoothing ==1):\n",
    "        given_word = None\n",
    "        for word in sentence:\n",
    "            if given_word!=None:\n",
    "                bigram_freq = 0 if bigram_frequencies.get((given_word,word))==None else bigram_frequencies.get((given_word,word))\n",
    "                uni_freq = 0 if unique_word_frequency.get((given_word))==None else unique_word_frequency.get((given_word))\n",
    "                numerator = bigram_freq+1\n",
    "                denominator = uni_freq+bigram_unique_word_count\n",
    "                probability = 0 if numerator==0 or denominator ==0 else float(numerator)/float(denominator)\n",
    "                if(probability==0):\n",
    "                    return 0\n",
    "                test_sent_prob +=log(probability,10)\n",
    "            given_word = word\n",
    "            \n",
    "    return 10**test_sent_prob"
   ]
  },
  {
   "cell_type": "code",
   "execution_count": null,
   "metadata": {},
   "outputs": [],
   "source": [
    "# Test sentence here\n",
    "test_sentences = [['upon this the captain started , and eagerly desired to know more .'],['thus , because no man can follow another into these halls .']]"
   ]
  },
  {
   "cell_type": "code",
   "execution_count": null,
   "metadata": {},
   "outputs": [],
   "source": [
    "for i in range (len(test_sentences)):\n",
    "    test_sentence = test_sentences[i]\n",
    "    print(\"!!!!!!!!!!The test Sentence is!!!!!!!!!!\")\n",
    "    print(test_sentence)\n",
    "    test_sentence = tokenize_sentence(test_sentence)\n",
    "    test_sentence = prep_data(test_sentence)\n",
    "\n",
    "    # Vocabulary of test sentence\n",
    "    test_sentence_vocab = vocabulary(test_sentence)\n",
    "\n",
    "    test_sentence = list(itertools.chain.from_iterable(test_sentence))\n",
    "    #test_sentence\n",
    "\n",
    "    # A table showing the bigram counts for test sentence.\n",
    "    print_bigram_freq_test_sentence(test_sentence_vocab,smoothing)\n",
    "\n",
    "    # A table showing the bigram probabilities for test sentence.\n",
    "    print_bigram_probabilities_test_sentence(test_sentence_vocab,smoothing)\n",
    "\n",
    "    # The probability of the sentence under the trained model\n",
    "    print(\"The probability of the sentence under the trained model\"+\"\\nsmoothing =\"+str(smoothing))\n",
    "    print(compute_prob_test_sentence(test_sentence,0))"
   ]
  }
 ],
 "metadata": {
  "kernelspec": {
   "display_name": "Python 3",
   "language": "python",
   "name": "python3"
  },
  "language_info": {
   "codemirror_mode": {
    "name": "ipython",
    "version": 3
   },
   "file_extension": ".py",
   "mimetype": "text/x-python",
   "name": "python",
   "nbconvert_exporter": "python",
   "pygments_lexer": "ipython3",
   "version": "3.11.3"
  }
 },
 "nbformat": 4,
 "nbformat_minor": 4
}
