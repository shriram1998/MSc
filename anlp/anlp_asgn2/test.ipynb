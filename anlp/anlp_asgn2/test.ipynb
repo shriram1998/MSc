{
 "cells": [
  {
   "cell_type": "code",
   "execution_count": 1,
   "metadata": {},
   "outputs": [],
   "source": [
    "import spacy\n",
    "spacy.tokens.token.Token.set_extension(\"bio_slot_label\", default=\"O\")"
   ]
  },
  {
   "cell_type": "code",
   "execution_count": null,
   "metadata": {},
   "outputs": [],
   "source": []
  },
  {
   "cell_type": "code",
   "execution_count": null,
   "metadata": {},
   "outputs": [],
   "source": [
    "sentences=[\"two little humans\", \"6 15 I have a table booking\"]\n",
    "sentence=\"I would to book a weekend away for myself and my husband for the 29 May please\"\n",
    "nlp=spacy.load(\"en_core_web_sm\")\n",
    "nlp.get_pipe('parser')\n",
    "doc=nlp(sentence)\n",
    "for token in doc:\n",
    "    print(token,token.dep_,token.head._.bio_slot_label,token.head.pos_)"
   ]
  }
 ],
 "metadata": {
  "kernelspec": {
   "display_name": "Python 3",
   "language": "python",
   "name": "python3"
  },
  "language_info": {
   "codemirror_mode": {
    "name": "ipython",
    "version": 3
   },
   "file_extension": ".py",
   "mimetype": "text/x-python",
   "name": "python",
   "nbconvert_exporter": "python",
   "pygments_lexer": "ipython3",
   "version": "3.11.3"
  },
  "orig_nbformat": 4
 },
 "nbformat": 4,
 "nbformat_minor": 2
}
